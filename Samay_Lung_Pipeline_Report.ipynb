{
 "cells": [
  {
   "cell_type": "markdown",
   "id": "c301fa81",
   "metadata": {},
   "source": [
    "# Samay Lung Sound – ETL & Data Quality Report\n",
    "\n",
    "**Autor:** _<Tu Nombre>_\n",
    "\n",
    "Este notebook acompaña la entrega del pipeline. Lee las salidas de `./cleaned_data/`, resume calidad y corre consultas SQL."
   ]
  },
  {
   "cell_type": "markdown",
   "id": "b2ffabf2",
   "metadata": {},
   "source": [
    "## 0. Quickstart (reproducir)\n",
    "```bash\n",
    "python -m venv .venv\n",
    "# Windows: .\\.venv\\Scripts\\Activate.ps1\n",
    "pip install -r requirements.txt\n",
    "python -m src.cli --input \"./raw_ingest\" --output \"./cleaned_data\"\n",
    "```"
   ]
  },
  {
   "cell_type": "markdown",
   "id": "c7fc238b",
   "metadata": {},
   "source": [
    "## 1. Cargar salidas"
   ]
  },
  {
   "cell_type": "code",
   "execution_count": null,
   "id": "6a8316dc",
   "metadata": {},
   "outputs": [],
   "source": [
    "import pandas as pd\n",
    "from pathlib import Path\n",
    "base = Path('./cleaned_data')\n",
    "audio = pd.read_csv(base/'audio_recordings.csv')\n",
    "patients = pd.read_csv(base/'patient_demographics.csv')\n",
    "dq = pd.read_csv(base/'data_quality_report.csv')\n",
    "audio.head(3), patients.head(3), dq.head(3)"
   ]
  },
  {
   "cell_type": "markdown",
   "id": "426dd360",
   "metadata": {},
   "source": [
    "## 2. Métricas básicas"
   ]
  },
  {
   "cell_type": "code",
   "execution_count": null,
   "id": "a72787a9",
   "metadata": {},
   "outputs": [],
   "source": [
    "print('Registros de audio:', len(audio))\n",
    "print('Pacientes (no nulos):', audio['patient_id'].dropna().nunique())\n",
    "print('\\nTop issues:')\n",
    "print(dq.groupby(['severity','issue_type']).size().reset_index(name='count').sort_values(['severity','count'], ascending=[True, False]).head(10).to_string(index=False))"
   ]
  },
  {
   "cell_type": "markdown",
   "id": "2fa537b4",
   "metadata": {},
   "source": [
    "## 3. Visualizaciones"
   ]
  },
  {
   "cell_type": "code",
   "execution_count": null,
   "id": "64c7d02a",
   "metadata": {},
   "outputs": [],
   "source": [
    "import matplotlib.pyplot as plt\n",
    "sr_counts = (audio['sample_rate'].dropna().astype(int).value_counts().head(10))\n",
    "plt.figure(); sr_counts.plot(kind='bar'); plt.title('Top 10 sample_rate (Hz)'); plt.xlabel('sample_rate'); plt.ylabel('count'); plt.tight_layout(); plt.show()"
   ]
  },
  {
   "cell_type": "code",
   "execution_count": null,
   "id": "90fd47c0",
   "metadata": {},
   "outputs": [],
   "source": [
    "dur = audio['duration_seconds'].dropna().astype(float)\n",
    "dur_clip = dur[(dur>=0) & (dur<=120)]\n",
    "plt.figure(); plt.hist(dur_clip, bins=20); plt.title('Distribución de duración (s)'); plt.xlabel('seconds'); plt.ylabel('count'); plt.tight_layout(); plt.show()"
   ]
  },
  {
   "cell_type": "markdown",
   "id": "67192c62",
   "metadata": {},
   "source": [
    "## 4. Consultas a SQLite"
   ]
  },
  {
   "cell_type": "code",
   "execution_count": null,
   "id": "d6c4af55",
   "metadata": {},
   "outputs": [],
   "source": [
    "import sqlite3\n",
    "con = sqlite3.connect('./cleaned_data/samay_lung.db')\n",
    "qs = [\n",
    "  \"SELECT COUNT(*) AS n_audio FROM audio_recordings\",\n",
    "  \"SELECT COUNT(DISTINCT patient_id) AS n_patients FROM audio_recordings WHERE patient_id IS NOT NULL\",\n",
    "  \"SELECT issue_type, severity, COUNT(*) c FROM data_quality_issues GROUP BY 1,2 ORDER BY c DESC LIMIT 10\",\n",
    "]\n",
    "import pandas as pd\n",
    "for q in qs:\n",
    "    print('\\nSQL>', q)\n",
    "    print(pd.read_sql(q, con))\n",
    "con.close()"
   ]
  }
 ],
 "metadata": {},
 "nbformat": 4,
 "nbformat_minor": 5
}
