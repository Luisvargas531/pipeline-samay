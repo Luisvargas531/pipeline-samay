{
 "cells": [
  {
   "cell_type": "markdown",
   "id": "c301fa81",
   "metadata": {},
   "source": [
    "# Samay Lung Sound – ETL & Data Quality Report\n",
    "\n",
    "**Autor:** _<Tu Nombre>_\n",
    "\n",
    "Este notebook acompaña la entrega del pipeline. Lee las salidas de `./cleaned_data/`, resume calidad y corre consultas SQL."
   ]
  },
  {
   "cell_type": "markdown",
   "id": "b2ffabf2",
   "metadata": {},
   "source": [
    "## 0. Quickstart (reproducir)\n",
    "```bash\n",
    "python -m venv .venv\n",
    "# Windows: .\\.venv\\Scripts\\Activate.ps1\n",
    "pip install -r requirements.txt\n",
    "python -m src.cli --input \"./raw_ingest\" --output \"./cleaned_data\"\n",
    "```"
   ]
  },
  {
   "cell_type": "code",
   "execution_count": 1,
   "id": "71e5647d",
   "metadata": {},
   "outputs": [
    {
     "name": "stdout",
     "output_type": "stream",
     "text": [
      "CWD fijado a: C:\\Users\\lvarg\\OneDrive\\Escritorio\\pipeline\\samay-lung-pipeline\n"
     ]
    }
   ],
   "source": [
    "import os\n",
    "os.chdir(r\"C:\\Users\\lvarg\\OneDrive\\Escritorio\\pipeline\\samay-lung-pipeline\")\n",
    "print(\"CWD fijado a:\", os.getcwd())\n"
   ]
  },
  {
   "cell_type": "markdown",
   "id": "c7fc238b",
   "metadata": {},
   "source": [
    "## 1. Cargar salidas"
   ]
  },
  {
   "cell_type": "code",
   "execution_count": 2,
   "id": "6a8316dc",
   "metadata": {},
   "outputs": [
    {
     "data": {
      "text/plain": [
       "(                               recording_id patient_id  \\\n",
       " 0  fd398df9d9ef0cdabc77f9f6c2348412c428feaa      P9064   \n",
       " 1  ad609d7adc96bfbd0208668ce22676bed9e70589      P4951   \n",
       " 2  ad99c5742abc36afd3589a1d9049c2747e67bf48      P4511   \n",
       " \n",
       "                        timestamp  duration_seconds  sample_rate  bit_depth  \\\n",
       " 0  2025-03-08 00:00:00.000000000               NaN          NaN        NaN   \n",
       " 1  2025-08-15 00:00:00.000000000               NaN          NaN        NaN   \n",
       " 2  2024-10-02 00:00:00.000000000               NaN          NaN        NaN   \n",
       " \n",
       "    filter_mode    recording_location                file_path      diagnosis  \\\n",
       " 0          NaN  Anterior_Right_Upper   01-06-2025_P9064_8.wav           COPD   \n",
       " 1          NaN  Posterior_Left_Lower  01-08-2025_P4951_46.wav  Heart_Failure   \n",
       " 2          NaN  Posterior_Left_Upper  02-10-2024_P4511_35.wav  Lung_Fibrosis   \n",
       " \n",
       "                          hospital_site                          source_name  \n",
       " 0  Samay Data Engineer -Technical test  Samay Data Engineer -Technical test  \n",
       " 1  Samay Data Engineer -Technical test  Samay Data Engineer -Technical test  \n",
       " 2  Samay Data Engineer -Technical test  Samay Data Engineer -Technical test  ,\n",
       "   patient_id   age gender                        hospital_site\n",
       " 0      P1058  32.0    NaN  Samay Data Engineer -Technical test\n",
       " 1      P1157  48.0      M  Samay Data Engineer -Technical test\n",
       " 2      P1195  28.0      M  Samay Data Engineer -Technical test,\n",
       "                                recording_id      issue_type  \\\n",
       " 0  fd398df9d9ef0cdabc77f9f6c2348412c428feaa   missing_field   \n",
       " 1  ad609d7adc96bfbd0208668ce22676bed9e70589   missing_field   \n",
       " 2  ad609d7adc96bfbd0208668ce22676bed9e70589  missing_gender   \n",
       " \n",
       "                         detail severity  \n",
       " 0                  sample_rate    error  \n",
       " 1                  sample_rate    error  \n",
       " 2  gender null or unrecognized     note  )"
      ]
     },
     "execution_count": 2,
     "metadata": {},
     "output_type": "execute_result"
    }
   ],
   "source": [
    "import pandas as pd\n",
    "from pathlib import Path\n",
    "base = Path('./cleaned_data')\n",
    "audio = pd.read_csv(base/'audio_recordings.csv')\n",
    "patients = pd.read_csv(base/'patient_demographics.csv')\n",
    "dq = pd.read_csv(base/'data_quality_report.csv')\n",
    "audio.head(3), patients.head(3), dq.head(3)"
   ]
  },
  {
   "cell_type": "markdown",
   "id": "426dd360",
   "metadata": {},
   "source": [
    "## 2. Métricas básicas"
   ]
  },
  {
   "cell_type": "code",
   "execution_count": null,
   "id": "a72787a9",
   "metadata": {},
   "outputs": [],
   "source": [
    "print('Registros de audio:', len(audio))\n",
    "print('Pacientes (no nulos):', audio['patient_id'].dropna().nunique())\n",
    "print('\\nTop issues:')\n",
    "print(dq.groupby(['severity','issue_type']).size().reset_index(name='count').sort_values(['severity','count'], ascending=[True, False]).head(10).to_string(index=False))"
   ]
  },
  {
   "cell_type": "markdown",
   "id": "2fa537b4",
   "metadata": {},
   "source": [
    "## 3. Visualizaciones"
   ]
  },
  {
   "cell_type": "code",
   "execution_count": null,
   "id": "64c7d02a",
   "metadata": {},
   "outputs": [],
   "source": [
    "import matplotlib.pyplot as plt\n",
    "sr_counts = (audio['sample_rate'].dropna().astype(int).value_counts().head(10))\n",
    "plt.figure(); sr_counts.plot(kind='bar'); plt.title('Top 10 sample_rate (Hz)'); plt.xlabel('sample_rate'); plt.ylabel('count'); plt.tight_layout(); plt.show()"
   ]
  },
  {
   "cell_type": "code",
   "execution_count": null,
   "id": "90fd47c0",
   "metadata": {},
   "outputs": [],
   "source": [
    "dur = audio['duration_seconds'].dropna().astype(float)\n",
    "dur_clip = dur[(dur>=0) & (dur<=120)]\n",
    "plt.figure(); plt.hist(dur_clip, bins=20); plt.title('Distribución de duración (s)'); plt.xlabel('seconds'); plt.ylabel('count'); plt.tight_layout(); plt.show()"
   ]
  },
  {
   "cell_type": "markdown",
   "id": "67192c62",
   "metadata": {},
   "source": [
    "## 4. Consultas a SQLite"
   ]
  },
  {
   "cell_type": "code",
   "execution_count": null,
   "id": "d6c4af55",
   "metadata": {},
   "outputs": [],
   "source": [
    "import sqlite3\n",
    "con = sqlite3.connect('./cleaned_data/samay_lung.db')\n",
    "qs = [\n",
    "  \"SELECT COUNT(*) AS n_audio FROM audio_recordings\",\n",
    "  \"SELECT COUNT(DISTINCT patient_id) AS n_patients FROM audio_recordings WHERE patient_id IS NOT NULL\",\n",
    "  \"SELECT issue_type, severity, COUNT(*) c FROM data_quality_issues GROUP BY 1,2 ORDER BY c DESC LIMIT 10\",\n",
    "]\n",
    "import pandas as pd\n",
    "for q in qs:\n",
    "    print('\\nSQL>', q)\n",
    "    print(pd.read_sql(q, con))\n",
    "con.close()"
   ]
  }
 ],
 "metadata": {
  "kernelspec": {
   "display_name": ".venv",
   "language": "python",
   "name": "python3"
  },
  "language_info": {
   "codemirror_mode": {
    "name": "ipython",
    "version": 3
   },
   "file_extension": ".py",
   "mimetype": "text/x-python",
   "name": "python",
   "nbconvert_exporter": "python",
   "pygments_lexer": "ipython3",
   "version": "3.12.6"
  }
 },
 "nbformat": 4,
 "nbformat_minor": 5
}
